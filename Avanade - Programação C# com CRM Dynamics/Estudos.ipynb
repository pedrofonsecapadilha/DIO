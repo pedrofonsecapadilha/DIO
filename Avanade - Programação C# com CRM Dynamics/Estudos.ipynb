{
 "cells": [
  {
   "cell_type": "markdown",
   "metadata": {},
   "source": [
    "# Programação C# com CRM Dynamics"
   ]
  },
  {
   "cell_type": "markdown",
   "metadata": {},
   "source": [
    "## 1. Princípios de Desenvolvimento Ágil e Colaborativo"
   ]
  },
  {
   "cell_type": "markdown",
   "metadata": {},
   "source": [
    "### **Bootcamps DIO: Educação Gratuita e Empregabilidade Juntas!**"
   ]
  },
  {
   "cell_type": "markdown",
   "metadata": {},
   "source": [
    "#### Bootcamps DIO: Educação Gratuita e Empregabilidade Juntas!\n",
    "\n",
    "##### VÍDEO - Bootcamps DIO: Educação Gratuita e Empregabilidade Juntas!\n",
    "Estrutura Metodologica - LEARN\n",
    "- Cursos (Aulas)\n",
    "- Desafio de Código (PBL)\n",
    "- Desafios de Projeto (Portfólio)\n",
    "- Mentorias\n",
    "- Certificado\n",
    "\n",
    "Comunidade Protagonista - HERO  \n",
    "Empregabilidade - ACT\n",
    "\n",
    "##### ARTIGO - Gerenciamento de Tempo em Bootcamps: Dicas para ter sucesso\n",
    "- Matriz Eisenhower\n",
    "- Técnica Pomodoro\n",
    "\n",
    "##### MATERIAIS COMPLEMENTARES"
   ]
  },
  {
   "cell_type": "markdown",
   "metadata": {},
   "source": [
    "### **Trabalhando em Equipes Ágeis**\n"
   ]
  },
  {
   "cell_type": "markdown",
   "metadata": {},
   "source": [
    "#### Introdução à Cultura Ágil"
   ]
  },
  {
   "cell_type": "markdown",
   "metadata": {},
   "source": [
    "##### VÍDEO - Apresentação do Curso\n",
    "\n",
    "- Introdução à Cultura Ágil\n",
    "- Gerenciamento de Projetos\n",
    "- Gestão Agil\n",
    "- Métodos e Ferramentas Ágeis\n",
    "\n",
    "##### VÍDEO - Agilidade x Rapidez\n",
    "\n",
    "Ágil: Capacidade de se adaptar a novas situações.\n",
    "\n",
    "##### VÍDEO - Os Valores do Manifesto Ágil\n",
    "\n",
    "2001 - Manifesto Ágil (https://agilemanifesto.org/iso/ptbr/manifesto.html)\n",
    "\n",
    "Valores:\n",
    "1. Individuos e Interações, mais que processos e ferramentas\n",
    "2. Software em funcionamento, mais que documentação abrangente\n",
    "3. Colaboração com o cliente, mais que negociação de contratos\n",
    "4. Responder a mudanças, mais que seguir um plano\n",
    "\n",
    "##### VÍDEO - Os 12 Princípios do Manifesto\n",
    "\n",
    "**1. Nossa maior prioridade é satisfazer o cliente através da entrega contínua e adiantada de software com valor agregado.**  \n",
    "**2. Aceitar mudanças de requisitos, mesmo no fim do desenvolvimento. Processos ágeis se adequam a mudanças, para que o cliente possa tirar vantagens competitivas.**  \n",
    "3. Entregar frequentemente software funcionando, de poucas semanas a poucos meses, com preferência à menor escala de tempo.  \n",
    "4. Pessoas de negócio e desenvolvedores devem trabalhar diariamente em conjunto por todo o projeto.  \n",
    "5. Construir projetos em torno de indivíduos motivados, dando a eles o ambiente e o suporte necessário e confiando neles para fazer o trabalho.  \n",
    "**6. O método mais eficiente e eficaz de transmitir informações para e entre uma equipe de desenvolvimento é por meio de conversa face a face.**  \n",
    "7. Software funcionando é a medida primária de progresso.  \n",
    "8. Os processos ágeis promovem desenvolvimento sustentável. Os patrocinadores, desenvolvedores e usuários devem ser capazes de manter um ritmo constante indefinidamente.  \n",
    "9. Contínua atenção a excelência técnica e bom design aumenta a agilidade.  \n",
    "**10. Simplicidade: a arte de maximizar a quantidade de trabalho não realizado é essencial.**  \n",
    "11. As melhores arquiteturas, requisitos e designs emergem de times auto-organizáveis.  \n",
    "**12. Em intervalos regulares, a equipe reflete sobre como se tornar mais eficaz e então refina e ajusta seu comportamento de acordo.**  \n",
    "\n",
    "##### VÍDEO - Características de um Time Ágil\n",
    "\n",
    "##### VÍDEO - Agilidade na Tecnologia\n",
    "\n",
    "VUCA\n",
    "- Volatility\n",
    "- Uncertainty\n",
    "- Complexity\n",
    "- Ambiguity"
   ]
  },
  {
   "cell_type": "markdown",
   "metadata": {},
   "source": [
    "#### Gerenciamento de Projetos e Gestão Ágil"
   ]
  },
  {
   "cell_type": "markdown",
   "metadata": {},
   "source": [
    "##### VÍDEO - Projeto x Processo\n",
    "\n",
    "Processo\n",
    "- **Recorrente e Contínuo**\n",
    "- Replicável\n",
    "- Geralmente é reperirivo e realizado regularmente\n",
    "\n",
    "Projeto\n",
    "- Um esforço **temporário** para atingir um objetivo\n",
    "- O resultado é exclusivo\n",
    "- Tem início e fim bem definido\n",
    "\n",
    "##### VÍDEO - Modelo Ágil x Tradicional\n",
    "\n",
    "Tradicional (Cascata / Waterfall)  \n",
    "-> Análise -> Projeto (Design) -> Implementação -> Teste -> Entrega/Manutenção\n",
    "- Escopo\n",
    "- Custo\n",
    "- Cronograma\n",
    "\n",
    "Ágil  \n",
    "-> Ciclos (Sprints)\n",
    "- Planejamento por ciclos\n",
    "- **Desenvolvimento iterativo e incremental**\n",
    "- Feedback\n",
    "\n",
    "##### VÍDEO - O que é Gestão Ágil?\n",
    "\n",
    "- Flexível e que se adapte às mudanças\n",
    "- Colaborativa e que gere transparência\n",
    "- Voltada ao aprendizado\n",
    "- Entrega contínua de valor"
   ]
  },
  {
   "cell_type": "markdown",
   "metadata": {},
   "source": [
    "#### Métodos e Ferramentas Ágeis"
   ]
  },
  {
   "cell_type": "markdown",
   "metadata": {},
   "source": [
    "##### VÍDEO - O que é Scrum\n",
    "\n",
    "**Framework** para gerar valor por meio de **soluções adaptativas** para **problemas complexos**.  \n",
    "Bases: Empirismo (PDCA) e Lean Thinking (redução de desperdícios)  \n",
    "Pilares: Transparência | Inspeção | Adaptação\n",
    "\n",
    "##### VÍDEO - O Framework SCRUM\n",
    "\n",
    "SCRUM não tem o \"modo de preparo (como)\" como as Metodologias, por isso é chamado de Framework.\n",
    "- O que - OK\n",
    "- Porque - OK\n",
    "- Como - Em aberto\n",
    "\n",
    "##### VÍDEO - O que é XP?\n",
    "\n",
    "Extreme Programming: Criado no final dos anos 90, com foco em desenvolvimento de software.\n",
    "- Interação próxima com os clientes\n",
    "- Testagem constante\n",
    "- Ciclos de desenvolvimentos curtos\n",
    "\n",
    "-> Planeja -> Faz -> Testa / Mensura -> Melhora / Incrementa ->\n",
    "\n",
    "##### VÍDEO - Kanban\n",
    "\n",
    "Método para **definir, gerenciar e melhorar** serviços.  \n",
    "Desenvolvido pela Toyota para resolver o problema com Gestão de Estoque.  \n",
    "Hoje é uma ferramenta de **GESTÃO DE TAREFAS**  \n",
    "-> TO DO -> DOING -> DONE ->\n",
    "\n",
    "Software de Exemplo: Trello\n",
    "\n",
    "##### VÍDEO - O que é OKR?\n",
    "\n",
    "OKR = Objects Key Results  \n",
    "Objetivos: São **descrições qualitativas** (Claro + Inspirador + Desafiador + Alinhado com a missão do negócio)  \n",
    "Key Results: São as **metas** do objetivo com a finalidade de atingir o objetivo proposto. São as referencias para indicar o progresso em direção ao objetivo principal.\n",
    "\n",
    "##### VÍDEO - Exemplo OKR\n",
    "\n",
    "Para cada Objetivo tem-se de 2 a 5 Objetivos Chaves.\n",
    "\n",
    "##### VÍDEO - Os Benefícios do OKR\n",
    "\n",
    "Benefícios: Agilidade + Cooperação + Transparência + Monitoramento Contínuo.  \n",
    "\n",
    "##### VÍDEO - Ferramentas para Gestão Ágil\n",
    "##### VÍDEO - Conclusão\n",
    "##### VÍDEO - Para saber mais\n",
    "\n",
    "Mentoria: Introdução ao Scrum e à Cultura Ágil (https://www.youtube.com/watch?v=j_z2JVHgmuc)  \n",
    "Formação - Scrum Master Certification - Dio.me  \n",
    "- Foco: Certificação Professional Scrum Master (PSM I) da Scrum.org"
   ]
  },
  {
   "cell_type": "markdown",
   "metadata": {},
   "source": [
    "#### Materiais de Apoio e Questionário"
   ]
  },
  {
   "cell_type": "markdown",
   "metadata": {},
   "source": [
    "##### SLIDE - Materiais de Apoio\n",
    "##### Certifique seu conhecimento\n",
    "\n",
    "100% +40XP"
   ]
  },
  {
   "cell_type": "markdown",
   "metadata": {},
   "source": [
    "### **Organizando seus Estudos com os Roadmaps DIO e o Notion**"
   ]
  },
  {
   "cell_type": "markdown",
   "metadata": {},
   "source": [
    "#### 1. Visão Geral do Curso e Ferramentas"
   ]
  },
  {
   "cell_type": "markdown",
   "metadata": {},
   "source": [
    "##### VÍDEO - Introdução ao Curso\n",
    "##### VÍDEO - Conhecendo os Roadmaps DIO\n",
    "\n",
    "https://digitalinnovationone.github.io/roadmaps/\n",
    "\n",
    "##### VÍDEO - O que é Notion e como ele pode te ajudar\n",
    "##### VÍDEO - Visão Geral do Notion - Interface e Blocos"
   ]
  },
  {
   "cell_type": "markdown",
   "metadata": {},
   "source": [
    "#### 2. Construindo seu Caderno de Estudos"
   ]
  },
  {
   "cell_type": "markdown",
   "metadata": {},
   "source": [
    "##### VÍDEO - Estruturando a Página Principal\n",
    "##### VÍDEO - Criando um Banco de Dados (Database) de Conteúdos\n",
    "##### VÍDEO - Criando um cronograma de Estudos\n",
    "##### VÍDEO - Criando o Database de Cursos e Projetos\n",
    "##### VÍDEO - Finalizando o Caderno de Estudos"
   ]
  },
  {
   "cell_type": "markdown",
   "metadata": {},
   "source": [
    "#### 3. Dicas e Materiais de Apoio"
   ]
  },
  {
   "cell_type": "markdown",
   "metadata": {},
   "source": [
    "##### VÍDEO - Dicas e Materiais de Apoio\n",
    "##### SLIDE - Materiais de Apoio"
   ]
  },
  {
   "cell_type": "markdown",
   "metadata": {},
   "source": [
    "#### 4. Questionário"
   ]
  },
  {
   "cell_type": "markdown",
   "metadata": {},
   "source": [
    "##### Certifique seu conhecimento\n",
    "\n",
    "100% +40XP"
   ]
  },
  {
   "cell_type": "markdown",
   "metadata": {},
   "source": [
    "### **Versionamento de Código com Git e GitHub**"
   ]
  },
  {
   "cell_type": "markdown",
   "metadata": {},
   "source": [
    "#### 1. Visão Geral do Curso e Ferramentas"
   ]
  },
  {
   "cell_type": "markdown",
   "metadata": {},
   "source": [
    "##### VÍDEO - Introdução ao Curso\n",
    "##### VÍDEO - O que é Versionamento de Código\n",
    "\n",
    "Tipos de Sistemas de Controle de Versão:  \n",
    "VCS Centralizado (CVCS) - CVS, Subversion | Um servidor central  \n",
    "VCS Distribuído (DVCS) - Git, Mercurial | Um servidor + cópia em cada local\n",
    "\n",
    "##### VÍDEO - O que é Git\n",
    "\n",
    "Gratuíto e Open Source | Leve e Rápido\n",
    "\n",
    "##### VÍDEO - O que é GitHub"
   ]
  },
  {
   "cell_type": "markdown",
   "metadata": {},
   "source": [
    "#### 2. Instalação, Configuração e Autenticação"
   ]
  },
  {
   "cell_type": "markdown",
   "metadata": {},
   "source": [
    "##### VÍDEO - Instalando o Git no Windows\n",
    "##### VÍDEO - Instalando o Git no Linux (Ubuntu)\n",
    "##### VÍDEO - Configurando o Git\n",
    "##### VÍDEO - Autenticando via Token\n",
    "##### VÍDEO - Autenticando via chave SSH"
   ]
  },
  {
   "cell_type": "markdown",
   "metadata": {},
   "source": [
    "#### 3. Primeiros Passos com Git e GitHub"
   ]
  },
  {
   "cell_type": "markdown",
   "metadata": {},
   "source": [
    "##### VÍDEO - Criando e Clonando Repositórios\n",
    "##### VÍDEO - Salvando Alterações no Repositório Local\n",
    "##### VÍDEO - Desfazendo Alterações no Repositório Local\n",
    "##### VÍDEO - Enviando e Baixando Alterações com o Repositório Remoto\n",
    "##### VÍDEO - Trabalhando com Branches - Criando, Mesclando, Deletando e Tratando Conflitos\n",
    "##### VÍDEO - Trabalhando com Branches - Comandos Úteis no Dia a Dia"
   ]
  },
  {
   "cell_type": "markdown",
   "metadata": {},
   "source": [
    "#### 4. Dicas e Materiais de Apoio"
   ]
  },
  {
   "cell_type": "markdown",
   "metadata": {},
   "source": [
    "##### VÍDEO - Dicas e Materiais de Apoio\n",
    "##### SLIDE - Materiais de Apoio"
   ]
  },
  {
   "cell_type": "markdown",
   "metadata": {},
   "source": [
    "#### 5. Questionário"
   ]
  },
  {
   "cell_type": "markdown",
   "metadata": {},
   "source": [
    "##### Certifique seu conhecimento\n",
    "\n",
    "100% +40XP"
   ]
  },
  {
   "cell_type": "markdown",
   "metadata": {},
   "source": [
    "### **Desafios de Projetos: Crie Um Portifólio Vencedor**"
   ]
  },
  {
   "cell_type": "markdown",
   "metadata": {},
   "source": [
    "#### Desafios de Projetos: Crie Um Portfólio Vencedor"
   ]
  },
  {
   "cell_type": "markdown",
   "metadata": {},
   "source": [
    "##### VÍDEO - Apresentação\n",
    "##### VÍDEO - PBL, Portfólio, Competências e Empregabilidade\n",
    "\n",
    "- PBL - Project Based Learning (Aprendizado Baseado em Projetos)\n",
    "    - Portifólio\n",
    "    - Destaque\n",
    "    - Oportunidades\n",
    "- Hard Skills\n",
    "- Soft Skills\n",
    "\n",
    "##### VÍDEO - A Importância dos Desafios de Projeto na Prática\n",
    "\n",
    "Realizado o Desafio apresentado no vídeo: https://github.com/pedrofonsecapadilha/dio-lab-open-source"
   ]
  },
  {
   "cell_type": "markdown",
   "metadata": {},
   "source": []
  },
  {
   "cell_type": "markdown",
   "metadata": {},
   "source": [
    "### **Aula Inaugural - Coding The Future Avanade - Programação C# com CRM Dynamics**"
   ]
  },
  {
   "cell_type": "markdown",
   "metadata": {},
   "source": [
    "## ~~2. Primeiros Passos na Linguagem de Programação C#~~"
   ]
  },
  {
   "cell_type": "markdown",
   "metadata": {},
   "source": [
    "### **Introdução ao .NET**"
   ]
  },
  {
   "cell_type": "markdown",
   "metadata": {},
   "source": [
    "#### **1. Introdução ao .NET, história, versões, usos**"
   ]
  },
  {
   "cell_type": "markdown",
   "metadata": {},
   "source": [
    "##### VÍDEO - Introdução ao tema\n",
    "##### VÍDEO - Introdução ao .NET\n",
    "\n",
    ".NET - é uma **plataforma de desenvolvimento unificado** (open source) que permite a construção de sistemas e aplicações.  \n",
    "C# (C Sharp) - é uma **linguagem de programação** usada no .NET\n",
    "\n",
    "##### VÍDEO - O começo do .NET\n",
    "\n",
    "Microsoft começou no final dos anos 90 com C# e .NET e lançou em 2002, para competir com Java.  \n",
    "\n",
    "##### VÍDEO - Linha do tempo do .NET"
   ]
  },
  {
   "cell_type": "markdown",
   "metadata": {},
   "source": [
    "#### **2. Diferenças entre .NET Framework (Legado) e .NET**"
   ]
  },
  {
   "cell_type": "markdown",
   "metadata": {},
   "source": [
    "##### VÍDEO - Diferenças .NET Framework e .NET\n",
    "\n",
    "Framework - Versão legada, só funciona no Windows  \n",
    ".NET - Versão atual, multiplataforma. (.Net Core)\n",
    "\n",
    "##### VÍDEO - Versões .NET Framework\n",
    "\n",
    "Framework - última versão 4.8 (2019/04/18)  \n",
    ".NET - em andamento, última versão .NET 8 (2023.11.14)"
   ]
  },
  {
   "cell_type": "markdown",
   "metadata": {},
   "source": [
    "#### **3. Compilador do .NET e seu funcionamento**"
   ]
  },
  {
   "attachments": {
    "image.png": {
     "image/png": "[encoded data removed]"
    }
   },
   "cell_type": "markdown",
   "metadata": {},
   "source": [
    "##### VÍDEO - O compilador e seu funcionamento\n",
    "\n",
    "Linguagem de Auto Nível - Liguagens que são escritas parecidas com a nossa linguagem (Ex.: C#)  \n",
    "Linguagem de Baixo Nível - Linguagens que são escritas parecidas com o que o computador entende (Ex.: Assembly)  \n",
    "Machine Code - Linguagem que o computador entende (Ex.: Binário)\n",
    "\n",
    "##### VÍDEO - O compilador do .NET\n",
    "\n",
    "Extensão C#: .cs\n",
    "\n",
    "![image.png](attachment:image.png)\n",
    "\n",
    "##### VÍDEO - Compilador e Transpilador\n",
    "\n",
    "**Compilador:** É o programa que realiza a conversão de uma linguagem de alto nível para baixo nível (Ex.: C#, Java)  \n",
    "**Transpilador:** É a conversão de uma linguagem de alto nível ou implementação para outra. A sua saída permanece em linguagem de alto nível (Ex.: Typescript para JavaScript)\n",
    "\n",
    "* Obs.: Nem toda linguagem é compilada!!!  \n",
    "**Linguagem Compilada:** São linguagens onde o código fonte é traduzido para o código de máquina (Ex.: C#, Java)  \n",
    "**Linguagem Interpretada:** São linguagens que fazem a leitura e interpretação diretamente do código fonte (Ex.: JavaScript, PHP)"
   ]
  },
  {
   "cell_type": "markdown",
   "metadata": {},
   "source": [
    "#### **4. Materiais de apoio e Questionário**"
   ]
  },
  {
   "cell_type": "markdown",
   "metadata": {},
   "source": [
    "##### SLIDE - Materiais de apoio\n",
    "##### Certifique seu conhecimento\n",
    "\n",
    "100% +40XP"
   ]
  },
  {
   "cell_type": "markdown",
   "metadata": {},
   "source": [
    "### **Introdução as IDEs e Configuração de Ambiente .NET**"
   ]
  },
  {
   "cell_type": "markdown",
   "metadata": {},
   "source": [
    "#### **1. Configuração do Ambiente e IDEs**"
   ]
  },
  {
   "cell_type": "markdown",
   "metadata": {},
   "source": [
    "##### VÍDEO - IDE e Visual Studio\n",
    "\n",
    "IDE - Integrated Development Environment (Ex.: Visual Studio).\n",
    "\n",
    "##### VÍDEO - Visual Studio Code\n",
    "\n",
    "Não é IDE, é sim um **editor de texto**, mas pode torná-lo uma IDE ao se instalar algumas extensões.\n",
    "\n",
    "##### VÍDEO - Rider\n",
    "\n",
    "É uma IDE para .NET, muito completa mas é paga.\n",
    "\n",
    "##### VÍDEO - Instalando o .NET SDK\n",
    "##### VÍDEO - Instalando o VS Code\n",
    "##### VÍDEO - Criando nosso projeto\n",
    "##### VÍDEO - Extensões auxiliares\n",
    "##### VÍDEO - Explorando o VS Code"
   ]
  },
  {
   "cell_type": "markdown",
   "metadata": {},
   "source": [
    "#### **2. Materiais de apoio e Questionário**"
   ]
  },
  {
   "cell_type": "markdown",
   "metadata": {},
   "source": [
    "##### SLIDE - Materiais de apoio\n",
    "##### Certifique seu conhecimento\n",
    "\n",
    "100% +40XP"
   ]
  },
  {
   "cell_type": "markdown",
   "metadata": {},
   "source": [
    "### ~~**Sintaxe e Tipos de Dados em C#**~~"
   ]
  },
  {
   "cell_type": "markdown",
   "metadata": {},
   "source": [
    "#### **1. Sintaxe e Identação**"
   ]
  },
  {
   "cell_type": "markdown",
   "metadata": {},
   "source": [
    "##### VIDEO - Entendendo a estrutura de um projeto\n",
    "\n",
    "Estrutura Básica de Projeto em .NET:\n",
    "- Classe (arquivo.cs);\n",
    "- Metadados do projeto (arquivo.csproj) - Configurações de como o projeto vai se comportar;\n",
    "- Pastas (bin e obj) - Compilador e Arquivos binários.\n",
    "\n",
    "*Pode-se ter algum arquivo JSON, entre outros.\n",
    "\n",
    "##### VIDEO - O conceito de classe\n",
    "\n",
    "**Classe**\n",
    "- Abstração da Programação Orientada a Objeto (OOP);\n",
    "    - Abstração: Torna um objeto do \"mundo real\" e transforma em um objeto \"na programação\";\n",
    "    - Classe é um conceito representado do mundo real.\n",
    "- A classe (molde/planta) possui **atributos** que são as informações da classe e **método** que são as ações. A ação é realizada por um **objeto**\n",
    "Ex.: Bob é um objeto do tipo Pessoa (classe).\n",
    "\n",
    "##### VIDEO - Criando nossa classe no código\n",
    "##### VIDEO - Entendendo a estrutura do código\n",
    "\n",
    "Palavras Reservadas: São palavras que o C# utiliza e portanto não podemos usá-las. Ex.: string, void, etc...\n",
    "\n",
    "##### VIDEO - Usando namespaces\n",
    "##### VIDEO - Usando a classe Pessoa\n",
    "##### VIDEO - Explorando a sintaxe\n",
    "##### VIDEO - Convenções case\n",
    "\n",
    "Sintaxe: Conjunto de regras que temos que seguir, se não o programa não vai funcionar.  \n",
    "Convenção: São acordos para padronizar o código, funciona mesmo se não for seguido.\n",
    "\n",
    "##### VIDEO - Convenções cases no código\n",
    "\n",
    "**Convenções**\n",
    "- camelCase: Variáveis;\n",
    "- PascalCase: Classes, Propriedades (Atributos), Métodos (Função);\n",
    "- snake_case: não utilizamos no C#;\n",
    "- spinal-case: não utilizamos no C#.\n",
    "\n",
    "##### VIDEO - Convenções de escrita de classe\n",
    "\n",
    "**Convenções**\n",
    "- **NUNCA abrevie** os nomes das Classes, Propriedades e Variáveis;\n",
    "- É recomendado o nome do arquivo e da classe terem o mesmo nome.\n",
    "\n",
    "##### VIDEO - Conveção de nome e variável\n",
    "\n",
    "**Convenções**\n",
    "- Não utilize caracteres especiais em nenhum lugar (só aceita underline)."
   ]
  },
  {
   "cell_type": "markdown",
   "metadata": {},
   "source": [
    "#### **2. Tipos de dados**"
   ]
  },
  {
   "cell_type": "markdown",
   "metadata": {},
   "source": [
    "##### VIDEO - Introdução e tipos inteiros\n",
    "##### VIDEO - Números com casas decimais\n",
    "##### VIDEO - Declarando os tipos de variáveis\n",
    "##### VIDEO - Manipulando variáveis\n",
    "##### VIDEO - O tipo DataTime"
   ]
  },
  {
   "cell_type": "markdown",
   "metadata": {},
   "source": [
    "#### **3. Materiais de apoio e Quertionário**"
   ]
  },
  {
   "cell_type": "markdown",
   "metadata": {},
   "source": [
    "##### SLIDE - Materiais de apoio\n",
    "##### Certifique seu conhecimento"
   ]
  },
  {
   "cell_type": "markdown",
   "metadata": {},
   "source": [
    "### **Tipos de Operadores em C#**"
   ]
  },
  {
   "cell_type": "markdown",
   "metadata": {},
   "source": [
    "### **Operadores Aritiméticos em C#**"
   ]
  },
  {
   "cell_type": "markdown",
   "metadata": {},
   "source": [
    "### **Conhecendo as Estruturas de Repetição em C#**"
   ]
  },
  {
   "cell_type": "markdown",
   "metadata": {},
   "source": [
    "### **Array e Listas em C#**"
   ]
  },
  {
   "cell_type": "markdown",
   "metadata": {},
   "source": [
    "### **Propriedades, Métodos e Construtores com C#**"
   ]
  },
  {
   "cell_type": "markdown",
   "metadata": {},
   "source": [
    "### **Manipulando Valores com C#**"
   ]
  },
  {
   "cell_type": "markdown",
   "metadata": {},
   "source": [
    "### **Exceções e Coleções com C#**"
   ]
  },
  {
   "cell_type": "markdown",
   "metadata": {},
   "source": [
    "### **Construindo um Sistema para um Estacionamento com C#**"
   ]
  },
  {
   "cell_type": "markdown",
   "metadata": {},
   "source": [
    "## 3. Linguagem de Programação C# na Prática"
   ]
  },
  {
   "cell_type": "markdown",
   "metadata": {},
   "source": [
    "### **Gerenciamento de Contatos**"
   ]
  },
  {
   "cell_type": "markdown",
   "metadata": {},
   "source": [
    "### **Verificação de Idade**"
   ]
  },
  {
   "cell_type": "markdown",
   "metadata": {},
   "source": [
    "### **Classificação de Clientes**"
   ]
  },
  {
   "cell_type": "markdown",
   "metadata": {},
   "source": [
    "### **Registrando Novos Clientes**"
   ]
  },
  {
   "cell_type": "markdown",
   "metadata": {},
   "source": [
    "### **Criando uma Listagem de Contatos no CRM**"
   ]
  },
  {
   "cell_type": "markdown",
   "metadata": {},
   "source": [
    "## 4. Introdução à Microsoft Dynamics 365 CE"
   ]
  },
  {
   "cell_type": "markdown",
   "metadata": {},
   "source": [
    "### **Visão Geral da Plataforma Dynamics 365 CE e Estrutura xRM**"
   ]
  },
  {
   "cell_type": "markdown",
   "metadata": {},
   "source": [
    "### **Navegando no Microsoft Dynamics 365 CE**"
   ]
  },
  {
   "cell_type": "markdown",
   "metadata": {},
   "source": [
    "### **Primeiros Passos com o Microsoft Dataverse**"
   ]
  },
  {
   "cell_type": "markdown",
   "metadata": {},
   "source": [
    "### **Trabalhando com Soluções e Componentes do Dynamics 365**"
   ]
  },
  {
   "cell_type": "markdown",
   "metadata": {},
   "source": [
    "### **Recursos da Web no Dynamics 365**"
   ]
  },
  {
   "cell_type": "markdown",
   "metadata": {},
   "source": [
    "### **Princípios de Segurança e Controle de Acesso no Dynamics 365**"
   ]
  },
  {
   "cell_type": "markdown",
   "metadata": {},
   "source": [
    "### **Conhecendo o XrmToolBox**"
   ]
  },
  {
   "cell_type": "markdown",
   "metadata": {},
   "source": [
    "### **Utilizando o Plugin Registration**"
   ]
  },
  {
   "cell_type": "markdown",
   "metadata": {},
   "source": [
    "## 5. Conhecendo Ferramentas da Power Platform"
   ]
  },
  {
   "cell_type": "markdown",
   "metadata": {},
   "source": [
    "### **Visão Geral da Power Platform**"
   ]
  },
  {
   "cell_type": "markdown",
   "metadata": {},
   "source": [
    "### **Criando Aplicativos Model-Driven**"
   ]
  },
  {
   "cell_type": "markdown",
   "metadata": {},
   "source": [
    "### **Criando Fluxos com Power Automate**"
   ]
  },
  {
   "cell_type": "markdown",
   "metadata": {},
   "source": [
    "### **Criando Aplicativos Portais**"
   ]
  },
  {
   "cell_type": "markdown",
   "metadata": {},
   "source": [
    "### **Criando Painéis no Power BI para exibição no MS Dynamics**"
   ]
  },
  {
   "cell_type": "markdown",
   "metadata": {},
   "source": [
    "### **Criando um aplicativo do tipo Canvas com a Power Platform**"
   ]
  },
  {
   "cell_type": "markdown",
   "metadata": {},
   "source": [
    "## 6. Desenvolvimento no Dynamics 365 CE com C#"
   ]
  },
  {
   "cell_type": "markdown",
   "metadata": {},
   "source": [
    "### **Preparando o Ambiente Visual Studio e SDK**"
   ]
  },
  {
   "cell_type": "markdown",
   "metadata": {},
   "source": [
    "### **Trabalhando com Plugins**"
   ]
  },
  {
   "cell_type": "markdown",
   "metadata": {},
   "source": [
    "### **Trabalhando com Actions**"
   ]
  },
  {
   "cell_type": "markdown",
   "metadata": {},
   "source": [
    "### **Dominando o Workflow Assembly no Dynamics 365 CE**"
   ]
  },
  {
   "cell_type": "markdown",
   "metadata": {},
   "source": [
    "### **Criando Soluções Robustas no Dynamics 365 com a Extensão SDK**"
   ]
  },
  {
   "cell_type": "markdown",
   "metadata": {},
   "source": [
    "### **Avalie este Bootcamp**"
   ]
  },
  {
   "cell_type": "markdown",
   "metadata": {},
   "source": [
    "# Mentoria"
   ]
  },
  {
   "cell_type": "markdown",
   "metadata": {},
   "source": [
    "## Live de Lançamento - Programação C# com Dynamics 365 - OK"
   ]
  },
  {
   "cell_type": "markdown",
   "metadata": {},
   "source": [
    "## Como se Tornar um Profissional de Sucesso na Avanade - OK"
   ]
  },
  {
   "cell_type": "markdown",
   "metadata": {},
   "source": [
    "## Desenvolvimento de Soluções de IA e Machine Learning no Dynamics 365"
   ]
  },
  {
   "cell_type": "markdown",
   "metadata": {},
   "source": [
    "## Colaboração entre Plataformas: Dynamics 365 CE e Integração de Sistemas"
   ]
  },
  {
   "cell_type": "markdown",
   "metadata": {},
   "source": [
    "# Dicas - Certificações"
   ]
  },
  {
   "cell_type": "markdown",
   "metadata": {},
   "source": [
    "## Microsoft Dynamics\n",
    "\n",
    "learn.midrosoft.com"
   ]
  }
 ],
 "metadata": {
  "language_info": {
   "name": "python"
  }
 },
 "nbformat": 4,
 "nbformat_minor": 2
}
