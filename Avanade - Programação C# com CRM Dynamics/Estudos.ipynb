{
 "cells": [
  {
   "cell_type": "markdown",
   "metadata": {},
   "source": [
    "# Programação C# com CRM Dynamics"
   ]
  },
  {
   "cell_type": "markdown",
   "metadata": {},
   "source": [
    "## Princípios de Desenvolvimento Ágil e Colaborativo"
   ]
  },
  {
   "cell_type": "markdown",
   "metadata": {},
   "source": [
    "### Bootcamps DIO: Educação Gratuita e Empregabilidade Juntas!"
   ]
  },
  {
   "cell_type": "markdown",
   "metadata": {},
   "source": [
    "#### Bootcamps DIO: Educação Gratuita e Empregabilidade Juntas!\n",
    "\n",
    "##### VÍDEO - Bootcamps DIO: Educação Gratuita e Empregabilidade Juntas!\n",
    "Estrutura Metodologica - LEARN\n",
    "- Cursos (Aulas)\n",
    "- Desafio de Código (PBL)\n",
    "- Desafios de Projeto (Portfólio)\n",
    "- Mentorias\n",
    "- Certificado\n",
    "\n",
    "Comunidade Protagonista - HERO  \n",
    "Empregabilidade - ACT\n",
    "\n",
    "##### ARTIGO - Gerenciamento de Tempo em Bootcamps: Dicas para ter sucesso\n",
    "- Matriz Eisenhower\n",
    "- Técnica Pomodoro\n",
    "\n",
    "##### MATERIAIS COMPLEMENTARES"
   ]
  },
  {
   "cell_type": "markdown",
   "metadata": {},
   "source": [
    "### Trabalhando em Equipes Ágeis\n"
   ]
  },
  {
   "cell_type": "markdown",
   "metadata": {},
   "source": [
    "#### Introdução à Cultura Ágil"
   ]
  },
  {
   "cell_type": "markdown",
   "metadata": {},
   "source": [
    "##### VÍDEO - Apresentação do Curso\n",
    "\n",
    "- Introdução à Cultura Ágil\n",
    "- Gerenciamento de Projetos\n",
    "- Gestão Agil\n",
    "- Métodos e Ferramentas Ágeis\n",
    "\n",
    "##### VÍDEO - Agilidade x Rapidez\n",
    "\n",
    "Ágil: Capacidade de se adaptar a novas situações.\n",
    "\n",
    "##### VÍDEO - Os Valores do Manifesto Ágil\n",
    "\n",
    "2001 - Manifesto Ágil (https://agilemanifesto.org/iso/ptbr/manifesto.html)\n",
    "\n",
    "Valores:\n",
    "1. Individuos e Interações, mais que processos e ferramentas\n",
    "2. Software em funcionamento, mais que documentação abrangente\n",
    "3. Colaboração com o cliente, mais que negociação de contratos\n",
    "4. Responder a mudanças, mais que seguir um plano\n",
    "\n",
    "##### VÍDEO - Os 12 Princípios do Manifesto\n",
    "\n",
    "**1. Nossa maior prioridade é satisfazer o cliente através da entrega contínua e adiantada de software com valor agregado.**  \n",
    "**2. Aceitar mudanças de requisitos, mesmo no fim do desenvolvimento. Processos ágeis se adequam a mudanças, para que o cliente possa tirar vantagens competitivas.**  \n",
    "3. Entregar frequentemente software funcionando, de poucas semanas a poucos meses, com preferência à menor escala de tempo.  \n",
    "4. Pessoas de negócio e desenvolvedores devem trabalhar diariamente em conjunto por todo o projeto.  \n",
    "5. Construir projetos em torno de indivíduos motivados, dando a eles o ambiente e o suporte necessário e confiando neles para fazer o trabalho.  \n",
    "**6. O método mais eficiente e eficaz de transmitir informações para e entre uma equipe de desenvolvimento é por meio de conversa face a face.**  \n",
    "7. Software funcionando é a medida primária de progresso.  \n",
    "8. Os processos ágeis promovem desenvolvimento sustentável. Os patrocinadores, desenvolvedores e usuários devem ser capazes de manter um ritmo constante indefinidamente.  \n",
    "9. Contínua atenção a excelência técnica e bom design aumenta a agilidade.  \n",
    "**10. Simplicidade: a arte de maximizar a quantidade de trabalho não realizado é essencial.**  \n",
    "11. As melhores arquiteturas, requisitos e designs emergem de times auto-organizáveis.  \n",
    "**12. Em intervalos regulares, a equipe reflete sobre como se tornar mais eficaz e então refina e ajusta seu comportamento de acordo.**  \n",
    "\n",
    "##### VÍDEO - Características de um Time Ágil\n",
    "\n",
    "##### VÍDEO - Agilidade na Tecnologia\n",
    "\n",
    "VUCA\n",
    "- Volatility\n",
    "- Uncertainty\n",
    "- Complexity\n",
    "- Ambiguity"
   ]
  },
  {
   "cell_type": "markdown",
   "metadata": {},
   "source": [
    "#### Gerenciamento de Projetos e Gestão Ágil"
   ]
  },
  {
   "cell_type": "markdown",
   "metadata": {},
   "source": [
    "##### VÍDEO - Projeto x Processo"
   ]
  }
 ],
 "metadata": {
  "language_info": {
   "name": "python"
  }
 },
 "nbformat": 4,
 "nbformat_minor": 2
}
